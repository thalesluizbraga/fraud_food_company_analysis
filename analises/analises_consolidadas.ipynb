{
 "cells": [
  {
   "cell_type": "markdown",
   "metadata": {},
   "source": [
    "# Imports"
   ]
  },
  {
   "cell_type": "code",
   "execution_count": 19,
   "metadata": {},
   "outputs": [],
   "source": [
    "import sqlite3\n",
    "import pandas as pd\n",
    "import seaborn as sns\n"
   ]
  },
  {
   "cell_type": "markdown",
   "metadata": {},
   "source": [
    "# Conexao com o Banco"
   ]
  },
  {
   "cell_type": "code",
   "execution_count": null,
   "metadata": {},
   "outputs": [],
   "source": [
    "con = sqlite3.connect('../data/if.db')"
   ]
  },
  {
   "cell_type": "markdown",
   "metadata": {},
   "source": [
    "# Questao 1"
   ]
  },
  {
   "cell_type": "code",
   "execution_count": 20,
   "metadata": {},
   "outputs": [],
   "source": [
    "df_questao1 = pd.read_sql(\"\"\"\n",
    "    SELECT \n",
    "        provider,\n",
    "        COUNT(session_id) AS count_session\n",
    "    FROM \n",
    "        biometry_execution\n",
    "    WHERE \n",
    "        status = 'PROVIDER_FAILED'\n",
    "    GROUP BY \n",
    "        provider \n",
    "    ORDER BY \n",
    "        count(session_id) DESC\n",
    "\"\"\"\n",
    ", con)\n"
   ]
  },
  {
   "cell_type": "code",
   "execution_count": 17,
   "metadata": {},
   "outputs": [
    {
     "data": {
      "text/html": [
       "<div>\n",
       "<style scoped>\n",
       "    .dataframe tbody tr th:only-of-type {\n",
       "        vertical-align: middle;\n",
       "    }\n",
       "\n",
       "    .dataframe tbody tr th {\n",
       "        vertical-align: top;\n",
       "    }\n",
       "\n",
       "    .dataframe thead th {\n",
       "        text-align: right;\n",
       "    }\n",
       "</style>\n",
       "<table border=\"1\" class=\"dataframe\">\n",
       "  <thead>\n",
       "    <tr style=\"text-align: right;\">\n",
       "      <th></th>\n",
       "      <th>Provider</th>\n",
       "      <th>count_session</th>\n",
       "    </tr>\n",
       "  </thead>\n",
       "  <tbody>\n",
       "    <tr>\n",
       "      <th>0</th>\n",
       "      <td>A</td>\n",
       "      <td>40</td>\n",
       "    </tr>\n",
       "    <tr>\n",
       "      <th>1</th>\n",
       "      <td>B</td>\n",
       "      <td>8</td>\n",
       "    </tr>\n",
       "    <tr>\n",
       "      <th>2</th>\n",
       "      <td>C</td>\n",
       "      <td>3</td>\n",
       "    </tr>\n",
       "  </tbody>\n",
       "</table>\n",
       "</div>"
      ],
      "text/plain": [
       "  Provider  count_session\n",
       "0        A             40\n",
       "1        B              8\n",
       "2        C              3"
      ]
     },
     "execution_count": 17,
     "metadata": {},
     "output_type": "execute_result"
    }
   ],
   "source": [
    "df_questao1"
   ]
  },
  {
   "cell_type": "code",
   "execution_count": 29,
   "metadata": {},
   "outputs": [
    {
     "name": "stderr",
     "output_type": "stream",
     "text": [
      "C:\\Users\\Thales\\AppData\\Local\\Temp\\ipykernel_25788\\3763014770.py:2: FutureWarning: \n",
      "\n",
      "Passing `palette` without assigning `hue` is deprecated and will be removed in v0.14.0. Assign the `x` variable to `hue` and set `legend=False` for the same effect.\n",
      "\n",
      "  sns.barplot(x='Provider', y='count_session', data=df_questao1, palette=custom_palette)\n",
      "C:\\Users\\Thales\\AppData\\Local\\Temp\\ipykernel_25788\\3763014770.py:2: UserWarning: The palette list has more values (6) than needed (3), which may not be intended.\n",
      "  sns.barplot(x='Provider', y='count_session', data=df_questao1, palette=custom_palette)\n"
     ]
    },
    {
     "data": {
      "text/plain": [
       "<Axes: xlabel='Provider', ylabel='count_session'>"
      ]
     },
     "execution_count": 29,
     "metadata": {},
     "output_type": "execute_result"
    },
    {
     "data": {
      "image/png": "[encoded data removed]",
      "text/plain": [
       "<Figure size 640x480 with 1 Axes>"
      ]
     },
     "metadata": {},
     "output_type": "display_data"
    }
   ],
   "source": [
    "custom_palette = sns.light_palette(\"red\", reverse=True)\n",
    "sns.barplot(x='Provider', y='count_session', data=df_questao1, palette=custom_palette)\n",
    "\n",
    "# Falta a quebra por status aqui (match, not_match, provider_failed)"
   ]
  },
  {
   "cell_type": "markdown",
   "metadata": {},
   "source": [
    "# Questao 2"
   ]
  },
  {
   "cell_type": "code",
   "execution_count": 31,
   "metadata": {},
   "outputs": [],
   "source": [
    "df_questao2 = pd.read_sql(\"\"\"\n",
    "   select \n",
    "    d.Category,\n",
    "    count(d.Driver_ID) as count_drivers\n",
    "\n",
    "    from biometry as b\n",
    "    left join drivers as d on b.Driver_ID = d.Driver_ID\n",
    "    where status = 'NOT_MATCH'\n",
    "    group by Category\n",
    "    order by count(d.Driver_ID) desc\n",
    "\n",
    "\"\"\"\n",
    ", con)\n"
   ]
  },
  {
   "cell_type": "code",
   "execution_count": 32,
   "metadata": {},
   "outputs": [
    {
     "data": {
      "text/html": [
       "<div>\n",
       "<style scoped>\n",
       "    .dataframe tbody tr th:only-of-type {\n",
       "        vertical-align: middle;\n",
       "    }\n",
       "\n",
       "    .dataframe tbody tr th {\n",
       "        vertical-align: top;\n",
       "    }\n",
       "\n",
       "    .dataframe thead th {\n",
       "        text-align: right;\n",
       "    }\n",
       "</style>\n",
       "<table border=\"1\" class=\"dataframe\">\n",
       "  <thead>\n",
       "    <tr style=\"text-align: right;\">\n",
       "      <th></th>\n",
       "      <th>Category</th>\n",
       "      <th>count_drivers</th>\n",
       "    </tr>\n",
       "  </thead>\n",
       "  <tbody>\n",
       "    <tr>\n",
       "      <th>0</th>\n",
       "      <td>Bronze</td>\n",
       "      <td>25</td>\n",
       "    </tr>\n",
       "    <tr>\n",
       "      <th>1</th>\n",
       "      <td>Prata</td>\n",
       "      <td>20</td>\n",
       "    </tr>\n",
       "    <tr>\n",
       "      <th>2</th>\n",
       "      <td>Iniciante</td>\n",
       "      <td>11</td>\n",
       "    </tr>\n",
       "    <tr>\n",
       "      <th>3</th>\n",
       "      <td>Ouro</td>\n",
       "      <td>4</td>\n",
       "    </tr>\n",
       "    <tr>\n",
       "      <th>4</th>\n",
       "      <td>Diamante</td>\n",
       "      <td>1</td>\n",
       "    </tr>\n",
       "  </tbody>\n",
       "</table>\n",
       "</div>"
      ],
      "text/plain": [
       "    Category  count_drivers\n",
       "0     Bronze             25\n",
       "1      Prata             20\n",
       "2  Iniciante             11\n",
       "3       Ouro              4\n",
       "4   Diamante              1"
      ]
     },
     "execution_count": 32,
     "metadata": {},
     "output_type": "execute_result"
    }
   ],
   "source": [
    "df_questao2"
   ]
  },
  {
   "cell_type": "code",
   "execution_count": 33,
   "metadata": {},
   "outputs": [
    {
     "name": "stderr",
     "output_type": "stream",
     "text": [
      "C:\\Users\\Thales\\AppData\\Local\\Temp\\ipykernel_25788\\1021463580.py:2: FutureWarning: \n",
      "\n",
      "Passing `palette` without assigning `hue` is deprecated and will be removed in v0.14.0. Assign the `x` variable to `hue` and set `legend=False` for the same effect.\n",
      "\n",
      "  sns.barplot(x='Category', y='count_drivers', data=df_questao2, palette=custom_palette)\n",
      "C:\\Users\\Thales\\AppData\\Local\\Temp\\ipykernel_25788\\1021463580.py:2: UserWarning: The palette list has more values (6) than needed (5), which may not be intended.\n",
      "  sns.barplot(x='Category', y='count_drivers', data=df_questao2, palette=custom_palette)\n"
     ]
    },
    {
     "data": {
      "text/plain": [
       "<Axes: xlabel='Category', ylabel='count_drivers'>"
      ]
     },
     "execution_count": 33,
     "metadata": {},
     "output_type": "execute_result"
    },
    {
     "data": {
      "image/png": "[encoded data removed]",
      "text/plain": [
       "<Figure size 640x480 with 1 Axes>"
      ]
     },
     "metadata": {},
     "output_type": "display_data"
    }
   ],
   "source": [
    "custom_palette = sns.light_palette(\"red\", reverse=True)\n",
    "sns.barplot(x='Category', y='count_drivers', data=df_questao2, palette=custom_palette)\n",
    "\n",
    "\n",
    "plt.title('Contagem de Sessões por Provedor')\n",
    "plt.xlabel('Contagem de Sessões')\n",
    "plt.ylabel('Provedor')\n"
   ]
  },
  {
   "cell_type": "markdown",
   "metadata": {},
   "source": [
    "# Questao 3"
   ]
  },
  {
   "cell_type": "code",
   "execution_count": 26,
   "metadata": {},
   "outputs": [],
   "source": [
    "df_questao3 = pd.read_sql(\"\"\"\n",
    "   WITH tb_similaridade_max AS (\n",
    "    SELECT\n",
    "        session_id,\n",
    "        MAX(similarity) AS max_similaridade\n",
    "    FROM\n",
    "        biometry_execution\n",
    "    GROUP BY\n",
    "        session_id\n",
    "),\n",
    "\n",
    "tb_similaridade_real AS (\n",
    "    SELECT \n",
    "        COUNT(session_id) AS count_session_id,\n",
    "        CASE \n",
    "            WHEN max_similaridade > 0.8 THEN 'match'\n",
    "            WHEN max_similaridade IS NULL THEN 'provider_failed'\n",
    "            ELSE 'not_match' \n",
    "        END AS similaridade,\n",
    "        'similaridade_real' AS similaridade_real\n",
    "    FROM \n",
    "        tb_similaridade_max\n",
    "    GROUP BY \n",
    "        CASE \n",
    "            WHEN max_similaridade > 0.8 THEN 'match'\n",
    "            ELSE 'not_match' \n",
    "        END\n",
    "\n",
    "),\n",
    "\n",
    "\n",
    "tb_indice_similaridade_real as (\n",
    "    SELECT\n",
    "        similaridade,\n",
    "        count_session_id,\n",
    "        (select count(distinct Session_ID) from biometry_execution) as total_sessoes,\n",
    "        1.0 * count_session_id /  (select count(distinct Session_ID) from biometry_execution) as indice_similaridade_real,\n",
    "        'similaridade_real' as similaridade_real\n",
    "        \n",
    "\n",
    "    FROM \n",
    "        tb_similaridade_real\n",
    "    GROUP BY\n",
    "        similaridade\n",
    "),\n",
    "\n",
    "tb_similaridade_projetada AS (\n",
    "    SELECT \n",
    "        COUNT(session_id) AS count_session_id,\n",
    "        CASE \n",
    "            WHEN max_similaridade > 0.9 THEN 'match'\n",
    "            WHEN max_similaridade IS NULL THEN 'provider_failed'\n",
    "            ELSE 'not_match' \n",
    "        END AS similaridade,\n",
    "        'projetada' AS tipo\n",
    "    FROM \n",
    "        tb_similaridade_max\n",
    "    GROUP BY \n",
    "        CASE \n",
    "            WHEN max_similaridade > 0.9 THEN 'match'\n",
    "            ELSE 'not_match' \n",
    "        END\n",
    "),\n",
    "\n",
    "tb_indice_similaridade_projetada as (\n",
    "    SELECT\n",
    "        similaridade,\n",
    "        count_session_id,\n",
    "        (select count(distinct Session_ID) from biometry_execution) as total_sessoes,\n",
    "        1.0 * count_session_id /  (select count(distinct Session_ID) from biometry_execution) as indice_similaridade_projetada,\n",
    "        'similaridade_projetada' as similaridade_projetada\n",
    "        \n",
    "\n",
    "    FROM \n",
    "        tb_similaridade_projetada\n",
    "    GROUP BY\n",
    "        similaridade\n",
    ")\n",
    "\n",
    "select * from tb_indice_similaridade_real\n",
    "\n",
    "union\n",
    "\n",
    "select * from tb_indice_similaridade_projetada \n",
    "\n",
    "\n",
    "\n",
    "\"\"\"\n",
    ", con)\n"
   ]
  },
  {
   "cell_type": "code",
   "execution_count": 27,
   "metadata": {},
   "outputs": [
    {
     "data": {
      "text/html": [
       "<div>\n",
       "<style scoped>\n",
       "    .dataframe tbody tr th:only-of-type {\n",
       "        vertical-align: middle;\n",
       "    }\n",
       "\n",
       "    .dataframe tbody tr th {\n",
       "        vertical-align: top;\n",
       "    }\n",
       "\n",
       "    .dataframe thead th {\n",
       "        text-align: right;\n",
       "    }\n",
       "</style>\n",
       "<table border=\"1\" class=\"dataframe\">\n",
       "  <thead>\n",
       "    <tr style=\"text-align: right;\">\n",
       "      <th></th>\n",
       "      <th>similaridade</th>\n",
       "      <th>count_session_id</th>\n",
       "      <th>total_sessoes</th>\n",
       "      <th>indice_similaridade_real</th>\n",
       "      <th>similaridade_real</th>\n",
       "    </tr>\n",
       "  </thead>\n",
       "  <tbody>\n",
       "    <tr>\n",
       "      <th>0</th>\n",
       "      <td>match</td>\n",
       "      <td>281</td>\n",
       "      <td>497</td>\n",
       "      <td>0.565392</td>\n",
       "      <td>similaridade_projetada</td>\n",
       "    </tr>\n",
       "    <tr>\n",
       "      <th>1</th>\n",
       "      <td>match</td>\n",
       "      <td>432</td>\n",
       "      <td>497</td>\n",
       "      <td>0.869215</td>\n",
       "      <td>similaridade_real</td>\n",
       "    </tr>\n",
       "    <tr>\n",
       "      <th>2</th>\n",
       "      <td>not_match</td>\n",
       "      <td>65</td>\n",
       "      <td>497</td>\n",
       "      <td>0.130785</td>\n",
       "      <td>similaridade_real</td>\n",
       "    </tr>\n",
       "    <tr>\n",
       "      <th>3</th>\n",
       "      <td>not_match</td>\n",
       "      <td>216</td>\n",
       "      <td>497</td>\n",
       "      <td>0.434608</td>\n",
       "      <td>similaridade_projetada</td>\n",
       "    </tr>\n",
       "  </tbody>\n",
       "</table>\n",
       "</div>"
      ],
      "text/plain": [
       "  similaridade  count_session_id  total_sessoes  indice_similaridade_real  \\\n",
       "0        match               281            497                  0.565392   \n",
       "1        match               432            497                  0.869215   \n",
       "2    not_match                65            497                  0.130785   \n",
       "3    not_match               216            497                  0.434608   \n",
       "\n",
       "        similaridade_real  \n",
       "0  similaridade_projetada  \n",
       "1       similaridade_real  \n",
       "2       similaridade_real  \n",
       "3  similaridade_projetada  "
      ]
     },
     "execution_count": 27,
     "metadata": {},
     "output_type": "execute_result"
    }
   ],
   "source": [
    "df_questao3"
   ]
  },
  {
   "cell_type": "code",
   "execution_count": null,
   "metadata": {},
   "outputs": [],
   "source": []
  },
  {
   "cell_type": "code",
   "execution_count": null,
   "metadata": {},
   "outputs": [],
   "source": []
  }
 ],
 "metadata": {
  "kernelspec": {
   "display_name": ".venv",
   "language": "python",
   "name": "python3"
  },
  "language_info": {
   "codemirror_mode": {
    "name": "ipython",
    "version": 3
   },
   "file_extension": ".py",
   "mimetype": "text/x-python",
   "name": "python",
   "nbconvert_exporter": "python",
   "pygments_lexer": "ipython3",
   "version": "3.12.1"
  }
 },
 "nbformat": 4,
 "nbformat_minor": 2
}
